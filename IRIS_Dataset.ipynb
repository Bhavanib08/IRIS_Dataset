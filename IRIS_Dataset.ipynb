{
 "cells": [
  {
   "cell_type": "markdown",
   "metadata": {},
   "source": [
    "**Importing All the required libraries**"
   ]
  },
  {
   "cell_type": "code",
   "execution_count": 185,
   "metadata": {},
   "outputs": [],
   "source": [
    "import pandas as pd\n",
    "import matplotlib.pyplot as plt\n",
    "from sklearn.datasets import load_iris\n",
    "import numpy as np\n",
    "import seaborn as sns\n",
    "from sklearn.neighbors import KNeighborsClassifier \n",
    "from sklearn.model_selection import train_test_split \n",
    "from sklearn.metrics import accuracy_score\n",
    "from sklearn.model_selection import cross_val_score\n",
    "from sklearn import svm\n",
    "from sklearn import tree\n",
    "from sklearn.ensemble import GradientBoostingClassifier\n",
    "from sklearn.ensemble import RandomForestClassifier"
   ]
  },
  {
   "cell_type": "markdown",
   "metadata": {},
   "source": [
    "**Loading the Dataset**"
   ]
  },
  {
   "cell_type": "code",
   "execution_count": 186,
   "metadata": {},
   "outputs": [],
   "source": [
    "irisData = load_iris()"
   ]
  },
  {
   "cell_type": "markdown",
   "metadata": {},
   "source": [
    "**Plotting the pair plots of the data**"
   ]
  },
  {
   "cell_type": "code",
   "execution_count": null,
   "metadata": {},
   "outputs": [],
   "source": [
    "#load the dataset as a pandas data frame\n",
    "df = pd.DataFrame(irisData.data, columns=irisData.feature_names)\n",
    "df['species']= irisData.target\n",
    "#Categorizing the species \n",
    "df['species'].replace({0:'setosa',1:'versicolor',2:'virginica'},inplace=True)"
   ]
  },
  {
   "cell_type": "markdown",
   "metadata": {},
   "source": [
    "**Plotting the pair plot**"
   ]
  },
  {
   "cell_type": "code",
   "execution_count": null,
   "metadata": {},
   "outputs": [],
   "source": [
    "#Mapping plot aspects to different colors\n",
    "g = sns.pairplot(df, hue=\"species\", palette=\"husl\")\n",
    "#displaying the table of data in rows and columns \n",
    "plt.show()\n",
    "df"
   ]
  },
  {
   "cell_type": "markdown",
   "metadata": {},
   "source": [
    "**Interpretation of the separability of the three classes in terms of different features (dimensions)**"
   ]
  },
  {
   "cell_type": "markdown",
   "metadata": {},
   "source": [
    "The output plots the data as histogram and scatter plots which show the relationships and patterns between the three classes.\n",
    "\n",
    "**--Analysis Based on Histogram Plots**\n",
    "\n",
    "When analyzing the observed histogram, we can observe that whenever sepal features are considered there is a considerable amount of overlapping of the data, but as we start classifying the data based on petal features, we can differentiate setosa and there is very less overlapping of data between versicolor and virginica.\n",
    "\n",
    "**--Analysis Based on Scatter Plots**\n",
    "\n",
    "When analyzing the scatterplots we see a similar dependency of classification on petal features as seen in histogram plots, we see that when petal features are considered, the categorization is easier and there are very few datapoints which overlap in case of versicolor and virginica, there is less boundary overlapping. Setosa can be easily classified out of the data.\n",
    "\n",
    "**\"Therefore the best way to classify the iris dataset is by using the petal features\"**\n"
   ]
  },
  {
   "cell_type": "markdown",
   "metadata": {},
   "source": [
    "**KNN Classifier**"
   ]
  },
  {
   "cell_type": "code",
   "execution_count": null,
   "metadata": {},
   "outputs": [],
   "source": [
    "X = irisData.data \n",
    "y = irisData.target\n",
    "accuracy_list=[]\n",
    "best_k=0\n",
    "best_accuracy=0\n",
    "#dividing the data into train, validation, and test sets (60%, 20%, 20%)\n",
    "X_train, X_test, y_train, y_test = train_test_split(X, y, test_size=0.2, random_state=42)\n",
    "X_train, X_val, y_train, y_val = train_test_split(X_train, y_train, test_size=0.25, random_state=42)\n",
    "k = [1, 5, 10, 15, 20, 25, 30, 35]\n",
    "for i in k:\n",
    "    knn = KNeighborsClassifier(n_neighbors=i) \n",
    "    knn.fit(X_train, y_train) \n",
    "    knn.predict(X_val)\n",
    "    accuracy = knn.score(X_val, y_val)\n",
    "    accuracy_list.append(accuracy)\n",
    "    if(accuracy>best_accuracy):\n",
    "        best_accuracy=accuracy\n",
    "        best_k=i\n",
    "plt.xlabel('k')\n",
    "plt.ylabel('accuracy') \n",
    "plt.plot(k,accuracy_list)\n",
    "plt.show() \n",
    "#Testing the model on the best k \n",
    "best_knn=KNeighborsClassifier(n_neighbors=best_k)\n",
    "best_knn.fit(X_train,y_train)\n",
    "X = best_knn.predict(X_test)\n",
    "best_bound=accuracy_score(y_test,X)\n",
    "print('Accuracies:',accuracy_list)\n",
    "print('The highest accuracy:',best_accuracy*100)\n",
    "print('The corresponding optimal k:',best_k)\n",
    "print(\"The accuracy for optimal k for test data = {0} is {1}\".format(best_k,best_bound*100))"
   ]
  },
  {
   "cell_type": "markdown",
   "metadata": {},
   "source": [
    "**Choosing the best k**\n",
    "\n",
    "The best value of k for KNN is highly data-dependent. In general a larger k suppresses the effects of noise, but makes the classification boundaries less distinct.\n",
    "When we have multiple k values of same accuracy we consider the following to select the best k:<br>\n",
    "--k value must not be the multiple of the number of classes<br>\n",
    "--k should not be even<br>\n",
    "--k should not be too small or too large<br> \n",
    "--k = 25 is of lesser computational complexity when compared to k =30\n",
    "\n",
    "**Hence considering all the above rules we choose the value of k to be 25**"
   ]
  },
  {
   "cell_type": "markdown",
   "metadata": {},
   "source": [
    "**SVM Classifier**"
   ]
  },
  {
   "cell_type": "code",
   "execution_count": 178,
   "metadata": {},
   "outputs": [
    {
     "name": "stdout",
     "output_type": "stream",
     "text": [
      "Accuracies\n",
      "[1.         1.         1.         1.         0.83333333 0.83333333\n",
      " 1.         1.         1.         0.90909091]\n",
      "[1.         1.         0.91666667 1.         0.91666667 0.83333333\n",
      " 1.         1.         1.         1.        ]\n",
      "[1.         1.         0.91666667 1.         0.91666667 0.83333333\n",
      " 1.         1.         1.         1.        ]\n",
      "[1.         1.         1.         1.         0.83333333 0.83333333\n",
      " 1.         1.         1.         1.        ]\n",
      "[1.         1.         1.         1.         0.83333333 0.83333333\n",
      " 1.         1.         1.         1.        ]\n",
      "[1.         1.         1.         1.         0.83333333 0.83333333\n",
      " 1.         1.         1.         1.        ]\n",
      "[0.92307692 1.         0.91666667 1.         0.75       0.83333333\n",
      " 1.         1.         1.         1.        ]\n",
      "[0.92307692 1.         0.91666667 1.         0.75       0.83333333\n",
      " 1.         0.91666667 1.         1.        ]\n"
     ]
    },
    {
     "data": {
      "image/png": "[encoded data removed]",
      "text/plain": [
       "<Figure size 432x288 with 1 Axes>"
      ]
     },
     "metadata": {
      "needs_background": "light"
     },
     "output_type": "display_data"
    },
    {
     "name": "stdout",
     "output_type": "stream",
     "text": [
      "Mean Accuracies: [0.9575757575757576, 0.9666666666666666, 0.9666666666666666, 0.9666666666666668, 0.9666666666666668, 0.9666666666666668, 0.9423076923076923, 0.933974358974359]\n",
      "The highest accuracy: 96.66666666666669\n",
      "The corresponding optimal c value: 2\n",
      "The accuracy for optimal c for test data = 2 is 100.0\n"
     ]
    }
   ],
   "source": [
    "X = irisData.data \n",
    "y = irisData.target\n",
    "best_c =0\n",
    "best_accuracy = 0\n",
    "accuracy_list=[]\n",
    "#randomly dividing the data into (80%, 20%) portions of train-validation and test sets\n",
    "X_train, X_test, y_train, y_test = train_test_split(X, y, test_size=0.2, random_state=42)\n",
    "C_value = [0.1, 0.5, 1, 2, 5, 10, 20, 50]\n",
    "print('Accuracies')\n",
    "for i in C_value:\n",
    "    clf = svm.SVC(kernel='linear', random_state = 42,C=i).fit(X_train, y_train)\n",
    "    scores = cross_val_score(clf, X_train, y_train, cv=10, scoring ='accuracy')\n",
    "    print(scores)\n",
    "    accuracy_list.append(scores.mean())\n",
    "    if(scores.mean()>best_accuracy):\n",
    "        best_accuracy = scores.mean()\n",
    "        best_c = i\n",
    "plt.plot(C_value,accuracy_list)\n",
    "plt.xlabel('C-value')\n",
    "plt.ylabel('accuracy')\n",
    "plt.show()\n",
    "#Testing the model on the best c\n",
    "best_test_c = svm.SVC(C=best_c,kernel='linear')\n",
    "best_test_c.fit(X_train,y_train)\n",
    "pred = best_test_c.predict(X_test)\n",
    "accuracy1 = accuracy_score(y_test,pred)\n",
    "print('Mean Accuracies:',accuracy_list)\n",
    "print('The highest accuracy:',best_accuracy*100)\n",
    "print('The corresponding optimal c value:',best_c)\n",
    "print(\"The accuracy for optimal c for test data = {0} is {1}\".format(best_c,accuracy1*100))"
   ]
  },
  {
   "cell_type": "markdown",
   "metadata": {},
   "source": [
    "**Choosing the best c**\n",
    "\n",
    "The C parameter is a regularization/slack parameter. Its smaller values force the weights to be small. The larger it gets, the allowed range of weights gets wider. Resultantly, larger C values increase the penalty for misclassification and thus reduce the classification error rate on the training data (which may lead to over-fitting). Your training time and number of support vectors will increase as you increase the value of C and hence we choose c value to be 2 as it is smallest value among the ones providing the same accuracy.<br>\n",
    "\n",
    "--Smaller c has smaller margin hence more misclassification-->less accuracy<br>\n",
    "--Larger value of c has larger hyperplane margin, reducing the classification error rate-->better accuracy\n",
    "\n",
    "**Hence we choose c value to be 2**"
   ]
  },
  {
   "cell_type": "markdown",
   "metadata": {},
   "source": [
    "**Tree Based Classifiers**"
   ]
  },
  {
   "cell_type": "markdown",
   "metadata": {},
   "source": [
    "**--Decision Tree**"
   ]
  },
  {
   "cell_type": "code",
   "execution_count": 179,
   "metadata": {},
   "outputs": [
    {
     "name": "stdout",
     "output_type": "stream",
     "text": [
      "Accuracies\n",
      "[0.92307692 1.         1.         1.         0.75       0.83333333\n",
      " 1.         1.         0.91666667 0.90909091]\n",
      "[0.92307692 1.         0.91666667 1.         0.66666667 0.83333333\n",
      " 1.         0.91666667 0.91666667 0.90909091]\n",
      "[0.92307692 1.         1.         1.         0.66666667 0.83333333\n",
      " 1.         0.91666667 1.         0.90909091]\n",
      "[0.92307692 1.         1.         1.         0.66666667 0.83333333\n",
      " 1.         0.91666667 1.         0.90909091]\n"
     ]
    },
    {
     "data": {
      "image/png": "[encoded data removed]",
      "text/plain": [
       "<Figure size 432x288 with 1 Axes>"
      ]
     },
     "metadata": {
      "needs_background": "light"
     },
     "output_type": "display_data"
    },
    {
     "name": "stdout",
     "output_type": "stream",
     "text": [
      "Mean Accuracies: [0.9332167832167831, 0.908216783216783, 0.9248834498834497, 0.9248834498834497]\n",
      "The highest accuracy: 93.32167832167832\n",
      "The corresponding optimal depth: 3\n",
      "The accuracy of optimal depth for test data = 3 is 100.0\n"
     ]
    }
   ],
   "source": [
    "X = irisData.data \n",
    "y = irisData.target\n",
    "depth_value=[3,5,10,None]\n",
    "accuracy_value=[]\n",
    "best_accuracy=0;\n",
    "max_depth=0;\n",
    "X_train, X_test, y_train, y_test = train_test_split(X, y, test_size=0.2, random_state=42)\n",
    "print('Accuracies')\n",
    "for i in depth_value:\n",
    "    c=tree.DecisionTreeClassifier(random_state=42,max_depth=i)\n",
    "    scores=cross_val_score(c,X_train,y_train,cv=10,scoring='accuracy')\n",
    "    print(scores)\n",
    "    accuracy_value.append(scores.mean())\n",
    "    if(scores.mean()>best_accuracy):\n",
    "        best_accuracy=scores.mean()\n",
    "        max_depth=i\n",
    "        #print(i)\n",
    "plt.plot(depth_value,accuracy_value)\n",
    "plt.xlabel('Maximum Depth')\n",
    "plt.ylabel('Mean accuracy')\n",
    "plt.show()\n",
    "#Testing the model using the optimal depth\n",
    "c1=tree.DecisionTreeClassifier(random_state=42,max_depth=i)\n",
    "c1.fit(X_train,y_train)\n",
    "X_pred = c1.predict(X_test)\n",
    "accuracy_scores=accuracy_score(y_test,X_pred)\n",
    "print('Mean Accuracies:',accuracy_value)\n",
    "print('The highest accuracy:',best_accuracy*100)\n",
    "print('The corresponding optimal depth:',max_depth)\n",
    "print(\"The accuracy of optimal depth for test data = {0} is {1}\".format(max_depth,accuracy_scores*100))"
   ]
  },
  {
   "cell_type": "markdown",
   "metadata": {},
   "source": [
    "**From the graph we observe that the optimal depth is 3 and this has the maximum accuracy**"
   ]
  },
  {
   "cell_type": "markdown",
   "metadata": {},
   "source": [
    "**Random Forest Classifier**"
   ]
  },
  {
   "cell_type": "code",
   "execution_count": 180,
   "metadata": {},
   "outputs": [
    {
     "name": "stdout",
     "output_type": "stream",
     "text": [
      "The accuracies are as follows:\n",
      "[[0.9248834498834497, 0.9248834498834497, 0.9248834498834497, 0.9248834498834497], [0.9332167832167831, 0.9248834498834497, 0.9248834498834497, 0.9248834498834497], [0.9415501165501163, 0.9415501165501163, 0.9332167832167831, 0.9332167832167831], [0.9415501165501163, 0.9332167832167831, 0.9248834498834497, 0.9248834498834497], [0.9415501165501163, 0.9332167832167831, 0.9332167832167831, 0.9332167832167831]]\n",
      "The maximum accuracy for the optimal number of trees: 50 and optimal max depth: 3 is 100.0\n"
     ]
    }
   ],
   "source": [
    "accuracy_list = [] \n",
    "tree_list=[5, 10, 50, 150, 200] \n",
    "Depth=[3, 5, 10, None]\n",
    "max_accuracy=0 \n",
    "d_list= []\n",
    "for i in tree_list:\n",
    "    accuracy_list=[]   \n",
    "    for n in Depth:\n",
    "        Ran_F=RandomForestClassifier(n_estimators=i ,max_depth=n, random_state = 42)\n",
    "        cross_val = cross_val_score(Ran_F , X_train, y_train,cv = 10 , scoring = 'accuracy')\n",
    "        accuracy_list.append(cross_val.mean())\n",
    "        if(cross_val.mean()>max_accuracy):\n",
    "            max_accuracy = cross_val.mean()\n",
    "            optimal_tree = i\n",
    "            optimal_depth = n\n",
    "    d_list.append(accuracy_list)\n",
    "Ran_F1=RandomForestClassifier(n_estimators=i ,max_depth=n, random_state = 42)\n",
    "Ran_F1.fit(X_train,y_train)\n",
    "X_pred = Ran_F1.predict(X_test)\n",
    "accuracy_scores=accuracy_score(y_test,X_pred)\n",
    "print(\"The accuracies are as follows:\")\n",
    "print(d_list)\n",
    "print(\"The maximum accuracy for the optimal number of trees:\",optimal_tree,\"and optimal max depth:\",optimal_depth,\"is\",accuracy_scores*100)"
   ]
  },
  {
   "cell_type": "code",
   "execution_count": 184,
   "metadata": {},
   "outputs": [
    {
     "data": {
      "image/png": "[encoded data removed]",
      "text/plain": [
       "<Figure size 720x1080 with 1 Axes>"
      ]
     },
     "metadata": {
      "needs_background": "light"
     },
     "output_type": "display_data"
    }
   ],
   "source": [
    "fig, plot = plt.subplots(figsize=(10,15))\n",
    "im = plot.imshow(d_list)\n",
    "plot.set_xticks(np.arange(len(Depth)))\n",
    "plot.set_yticks(np.arange(len(tree_list)))\n",
    "plot.set_xticklabels(Depth)\n",
    "plot.set_yticklabels(tree_list)\n",
    "plt.setp(plot.get_xticklabels(), rotation=45, ha=\"right\",rotation_mode=\"anchor\")\n",
    "for i in range(len(tree_list)):\n",
    "    for j in range(len(Depth)):\n",
    "        text = plot.text(j, i, d_list[i] [j],ha=\"center\", va=\"center\", color=\"b\")\n",
    "plot.set_title(\"Accuracies\")\n",
    "fig.tight_layout()\n",
    "plt.show()"
   ]
  },
  {
   "cell_type": "markdown",
   "metadata": {},
   "source": [
    "**Selecting the optimal depth and number of estimator**<br>\n",
    "**Random Forest**<br>\n",
    "Random forest is built by combining multiple decision trees under one root.<br>\n",
    "**Reason to choose number of trees = 50 and depth =3**<br>\n",
    "While analysing the heat map we observe that after a certain increase in number of trees and the depth, the accuracy improvement becomes negligible or decreases.Hence for the maximum depth the optimal value is 3 and the optimal value for number of trees is taken to be 50 as higher the number of trees more is the computational cost.\n",
    "The data also overfits after a threshold value of depth and number of trees."
   ]
  },
  {
   "cell_type": "markdown",
   "metadata": {},
   "source": [
    "**--Gradient Tree Boosting**"
   ]
  },
  {
   "cell_type": "code",
   "execution_count": 182,
   "metadata": {},
   "outputs": [
    {
     "data": {
      "image/png": "[encoded data removed]",
      "text/plain": [
       "<Figure size 432x288 with 1 Axes>"
      ]
     },
     "metadata": {
      "needs_background": "light"
     },
     "output_type": "display_data"
    },
    {
     "name": "stdout",
     "output_type": "stream",
     "text": [
      "Accuracies obtained: [0.9325757575757574, 0.9325757575757574, 0.9248834498834497, 0.9165501165501164, 0.9165501165501164]\n",
      "The highest accuracy: 0.9325757575757574\n",
      "The corresponding optimal estimator 5\n",
      "The accuracy for optimal estimator = 5 is 100.0\n"
     ]
    }
   ],
   "source": [
    "X = irisData.data \n",
    "y = irisData.target\n",
    "accuracy_list=[]\n",
    "best_accuracy = 0\n",
    "best_estimator = 0\n",
    "X_train, X_test, y_train, y_test = train_test_split(X, y, test_size=0.2, random_state=42)\n",
    "estimators = [5, 10, 50, 150, 200]\n",
    "for i in estimators:\n",
    "    clf = GradientBoostingClassifier(n_estimators=i,random_state=42)\n",
    "    cross_val = cross_val_score(clf , X_train, y_train,cv = 10 , scoring = 'accuracy')\n",
    "    accuracy_list.append(cross_val.mean())\n",
    "    if(cross_val.mean()>best_accuracy):\n",
    "        best_accuracy = cross_val.mean()\n",
    "        best_estimator = i\n",
    "plt.plot(estimators,accuracy_list)\n",
    "plt.xlabel('estimators')\n",
    "plt.ylabel('accuracy')\n",
    "plt.show()\n",
    "#Testing the model using the optimal estimator\n",
    "c1=GradientBoostingClassifier(n_estimators=best_estimator,random_state=42)\n",
    "c1.fit(X_train,y_train)\n",
    "X_pred = c1.predict(X_test)\n",
    "accuracy_scores=accuracy_score(y_test,X_pred)\n",
    "print('Accuracies obtained:',accuracy_list)\n",
    "print('The highest accuracy:',best_accuracy)\n",
    "print('The corresponding optimal estimator',best_estimator)\n",
    "print(\"The accuracy for optimal estimator = {0} is {1}\".format(best_estimator,accuracy_scores*100))"
   ]
  },
  {
   "cell_type": "markdown",
   "metadata": {},
   "source": [
    "**The best value for n_estimator**\n",
    "\n",
    "Gradient boosting classifier in general combines weak learning models to form a strong predictive model.Here the weak learners are considered to be the decision trees and the gradient boosting classifier uses the decision trees and combines them..\n",
    "The optimal value of estimator is 5 in this case for the following reason:<br>\n",
    "Generally higher the number of trees-->better the model but \n",
    "increasing the trees even further-->slows down the training-->leads to overfitting<br>\n",
    "So when we reach a point that gives the best accuracy , we consider that as the optimal value.\n",
    "\n",
    "**Hence we choose estimator value as 5**"
   ]
  },
  {
   "cell_type": "markdown",
   "metadata": {},
   "source": [
    "**Why Splitting of the Dataset into train and test?**"
   ]
  },
  {
   "cell_type": "markdown",
   "metadata": {},
   "source": [
    "We divide the dataset into training data and testing data to fit our model on the traning data that contains a known output and the model learns on this data in order to be generalized to other future data which may occur.We have the testing data in order to test our model's prediction on the data provided by the training data.So if we use the entire data sample on training the model alone we wont be able to evaluate the model."
   ]
  },
  {
   "cell_type": "markdown",
   "metadata": {},
   "source": [
    "**Why did I use Validation test to evaluate when finding the best parameters for KNN?**"
   ]
  },
  {
   "cell_type": "markdown",
   "metadata": {},
   "source": [
    "In case of KNN Classifier we split the data into training, validation and test dataset.Validation set evaluates the performance of our model for different combinations of hyperparameter values and keep the best trained model.We use validation dataset inorder to make sure the k value we choose is not an overfit or a underfit. We then test the model on the test data.The test set allows you to compare different models in an unbiased way, by basing your comparisons in data that were not use in any part of your training/hyperparameter selection process. Hence the split is done."
   ]
  },
  {
   "cell_type": "markdown",
   "metadata": {},
   "source": [
    "**Effect of changing k for KNN**"
   ]
  },
  {
   "cell_type": "markdown",
   "metadata": {},
   "source": [
    "To find the best k we run the KNN classifier several times and then choose the value which gives maximum accuracy and for which the errors encountered are least. The k values we are considering are :1,5,10,15,20,25,30,35. From the graph we can observe that initially when the classifier was trained with small values of k, the predictions was not stable and the values we obtained were less accurate. As k value gradually increased the accuracy improved and we then reached a point when the prediction was stabler than the other k values. After a particular value k, the number of errors we encountered increased which means that we have increased the k value beyond the best fit. By this we an infer that the k value should neither be too small or too big.\n",
    "The best value of k for KNN is highly data-dependent. In general a larger k suppresses the effects of noise, but makes the classification boundaries less distinct. "
   ]
  },
  {
   "cell_type": "markdown",
   "metadata": {},
   "source": [
    "**Relative effect of changing the max depths for decision tree, random forests and gradients boosting**"
   ]
  },
  {
   "cell_type": "markdown",
   "metadata": {},
   "source": [
    "In decision tree as the depth of the tree increases, the accuracy decreases or increases but never reaches the accuracy obtained at the optimal depth as seen in the graph obtained. This is due to overfitting of the data.\n",
    "But when considered in the case of random forest, as the depth of tree increases, the accuracy decreases gradually.This variation in accuracy of these classifiers is due to the fact that decision trees takes the training set as a whole and computes the accuracy of the model, whereas in random forest the accuracy of the model is the mean of the multiple decision trees which are constructed randomly."
   ]
  },
  {
   "cell_type": "markdown",
   "metadata": {},
   "source": [
    "**Relative effect of changing the number of tree depths for random forests and Gradient Boosting**"
   ]
  },
  {
   "cell_type": "markdown",
   "metadata": {},
   "source": [
    "--We observe in the graph plotted, as the number of estimaters increase the accuracy increases until a optimal value and then decreases evidently. Thre reason being that as the number of estimators increase, the number of trees involved also increase and adding more trees slows down the process considerably.<br>\n",
    "\n"
   ]
  },
  {
   "cell_type": "markdown",
   "metadata": {},
   "source": [
    "**Relative effect performance of gradient boosting compared with random forest**"
   ]
  },
  {
   "cell_type": "markdown",
   "metadata": {},
   "source": [
    "In random forest classifier we can observe that after a point is reached there is randomness in the accuray of the model, whereas in gradient tree boosting with the increase in number of estimators, the accuracy increases until a optimal value and then decreases. The Construction of gradient tree boosting and decision tree is the reason behind this variation. The random forest combines the result of accuracy of multiple decision trees by taking the average at the end of the process whereas gradient tree boosting combines the results along the way which would help the weak learning decision tree to improvise."
   ]
  },
  {
   "cell_type": "markdown",
   "metadata": {},
   "source": [
    "**What is parameter C in SVM classifier?**"
   ]
  },
  {
   "cell_type": "markdown",
   "metadata": {},
   "source": [
    "The C parameter is a regularization/slack parameter that helps the model to reduce the misclassification. With the help of linear svm We try to achieve:\n",
    "--Lower misclassification rate\n",
    "--Larger margin\n",
    "To achieve both of these parallely we use the regularzation parameter c. The c values(0.1,0.5,1,2,5,10,20,50) considered in our case spans over a larger range.So when the value of c is small there was a smaller margin because smaller values force the weights to be small, more misclassification hence lesser accuracy.Resultantly, as the value of c increased the hyperplane margin also increased thereby reducing the classification error rate on the training data. As the c value increased, the prediction results stop improving which may have been happened due to over-fitting of data and lead to less accuracy. Your training time and number of support vectors will increase as you increase the value of C and hence we choose c value to be 2 as it is smallest value among the ones providing the same accuracy."
   ]
  }
 ],
 "metadata": {
  "kernelspec": {
   "display_name": "Python 3",
   "language": "python",
   "name": "python3"
  },
  "language_info": {
   "codemirror_mode": {
    "name": "ipython",
    "version": 3
   },
   "file_extension": ".py",
   "mimetype": "text/x-python",
   "name": "python",
   "nbconvert_exporter": "python",
   "pygments_lexer": "ipython3",
   "version": "3.7.4"
  }
 },
 "nbformat": 4,
 "nbformat_minor": 4
}
